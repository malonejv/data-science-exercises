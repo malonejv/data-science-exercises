{
 "cells": [
  {
   "cell_type": "markdown",
   "metadata": {},
   "source": [
    "# Bag of Words\n",
    "\n",
    "Ejemplo sencillo  de BOW"
   ]
  },
  {
   "cell_type": "code",
   "execution_count": 12,
   "metadata": {},
   "outputs": [
    {
     "name": "stdout",
     "output_type": "stream",
     "text": [
      "['café' 'el' 'encanta' 'gusta' 'me' 'no' 'té']\n",
      "[[1 1 0 1 1 0 0]\n",
      " [0 1 0 1 1 1 1]\n",
      " [1 1 1 0 1 0 0]]\n"
     ]
    }
   ],
   "source": [
    "from sklearn.feature_extraction.text import CountVectorizer\n",
    "\n",
    "textos = [\"Me gusta el café\", \"No me gusta el té\", \"Me encanta el café\"]\n",
    "vectorizer = CountVectorizer()\n",
    "X = vectorizer.fit_transform(textos)\n",
    "print(vectorizer.get_feature_names_out())\n",
    "print(X.toarray())"
   ]
  },
  {
   "cell_type": "markdown",
   "metadata": {},
   "source": [
    "# Intro NLTK\n",
    "\n",
    "Ejemplo sencillo de NLTK"
   ]
  },
  {
   "cell_type": "code",
   "execution_count": 14,
   "metadata": {},
   "outputs": [
    {
     "name": "stdout",
     "output_type": "stream",
     "text": [
      "[('NLTK', 'NNP'), ('es', 'CC'), ('una', 'JJ'), ('poderosa', 'NN'), ('biblioteca', 'NN'), ('para', 'NN'), ('procesamiento', 'NN'), ('de', 'IN'), ('lenguaje', 'FW'), ('natural', 'JJ'), ('.', '.')]\n"
     ]
    }
   ],
   "source": [
    "import nltk\n",
    "nltk.download('punkt', quiet=True)\n",
    "nltk.download('punkt_tab', quiet=True)\n",
    "nltk.download('averaged_perceptron_tagger', quiet=True)\n",
    "nltk.download('averaged_perceptron_tagger_eng', quiet=True)\n",
    "\n",
    "texto = \"NLTK es una poderosa biblioteca para procesamiento de lenguaje natural.\"\n",
    "tokens = nltk.word_tokenize(texto)\n",
    "etiquetas = nltk.pos_tag(tokens)\n",
    "print(etiquetas)"
   ]
  },
  {
   "cell_type": "markdown",
   "metadata": {},
   "source": [
    "# Intro to DTM\n",
    "\n",
    "Ejemplo sencillo de DTM"
   ]
  },
  {
   "cell_type": "code",
   "execution_count": 15,
   "metadata": {},
   "outputs": [
    {
     "name": "stdout",
     "output_type": "stream",
     "text": [
      "['come' 'el' 'fuerte' 'gato' 'juegan' 'ladra' 'perro' 'pescado']\n",
      "[[1 1 0 1 0 0 0 1]\n",
      " [0 1 1 0 0 1 1 0]\n",
      " [0 2 0 1 1 0 1 0]]\n"
     ]
    }
   ],
   "source": [
    "from sklearn.feature_extraction.text import CountVectorizer\n",
    "\n",
    "documentos = [\n",
    "    \"El gato come pescado\",\n",
    "    \"El perro ladra fuerte\",\n",
    "    \"El gato y el perro juegan\"\n",
    "]\n",
    "\n",
    "vectorizer = CountVectorizer()\n",
    "X = vectorizer.fit_transform(documentos)\n",
    "print(vectorizer.get_feature_names_out())\n",
    "print(X.toarray())"
   ]
  }
 ],
 "metadata": {
  "kernelspec": {
   "display_name": "data-science-practice",
   "language": "python",
   "name": "python3"
  },
  "language_info": {
   "codemirror_mode": {
    "name": "ipython",
    "version": 3
   },
   "file_extension": ".py",
   "mimetype": "text/x-python",
   "name": "python",
   "nbconvert_exporter": "python",
   "pygments_lexer": "ipython3",
   "version": "3.11.5"
  }
 },
 "nbformat": 4,
 "nbformat_minor": 2
}
